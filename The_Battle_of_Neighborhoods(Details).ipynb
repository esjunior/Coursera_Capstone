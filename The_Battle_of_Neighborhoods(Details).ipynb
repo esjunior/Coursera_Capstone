{
  "nbformat": 4,
  "nbformat_minor": 0,
  "metadata": {
    "kernelspec": {
      "display_name": "Python 3.5",
      "name": "python3",
      "language": "python"
    },
    "language_info": {
      "mimetype": "text/x-python",
      "nbconvert_exporter": "python",
      "version": "3.5.5",
      "name": "python",
      "file_extension": ".py",
      "pygments_lexer": "ipython3",
      "codemirror_mode": {
        "version": 3,
        "name": "ipython"
      }
    },
    "colab": {
      "name": "The Battle of Neighborhoods (Week 1).ipynb",
      "provenance": [],
      "collapsed_sections": []
    }
  },
  "cells": [
    {
      "cell_type": "code",
      "metadata": {
        "id": "m312lkCPom31",
        "colab_type": "code",
        "colab": {}
      },
      "source": [
        ""
      ],
      "execution_count": 0,
      "outputs": []
    },
    {
      "cell_type": "markdown",
      "metadata": {
        "id": "nv5I1EmCoND-",
        "colab_type": "text"
      },
      "source": [
        "# Data Science Project #\n",
        "\n",
        "## Battle of the Neighborhoods"
      ]
    },
    {
      "cell_type": "markdown",
      "metadata": {
        "id": "ygo_qQFAoNEC",
        "colab_type": "text"
      },
      "source": [
        "***\n",
        "### Background and Business Problem Statement "
      ]
    },
    {
      "cell_type": "markdown",
      "metadata": {
        "id": "Ww8-zGbjoNED",
        "colab_type": "text"
      },
      "source": [
        "A local vegan ice-cream shop in Austin, TX has had great success and has decided to expand their business. \n",
        "The business owner based on his preferences and personal convinience is targeting New York City.\n",
        "However, based on his experience, he is looking to open up an ice-cream shop in a neighborhood, where vegan population already comes to frequently. Especially it would be a great addition to a place where there is already a lot of highly-rated vegan restaurants or community centers, so that the new ice-cream shop would be in a convenient location when customers are highly likely to want desert (after dinner or some activity).\n",
        "\n",
        "The question can be put as follows: \n",
        "\n",
        "*\"What neighborhood in NYC would be the best fit for opening up a vegan ice-cream shop based on the client's desired criteria(where vegans come the most, surrounded by vegan restaurants and community centers)?*"
      ]
    },
    {
      "cell_type": "markdown",
      "metadata": {
        "id": "CiEcfqEuoNEE",
        "colab_type": "text"
      },
      "source": [
        "***\n",
        "### Trusted Data Sources for the Project:"
      ]
    },
    {
      "cell_type": "markdown",
      "metadata": {
        "collapsed": true,
        "id": "XhJUwPjyoNEF",
        "colab_type": "text"
      },
      "source": [
        " The following trusted data sources will be used to conduct Data exploration and other forms \n",
        " of data analysis as part of the methodology for the project.\n",
        "\n",
        " 1) NY Neighborhood Data - https://github.com/esjunior/Coursera_Capstone/blob/master/nyu-2451-34572-geojson.json &  https://geo.nyu.edu/catalog/nyu_2451_34572\n",
        "\n",
        " 3) Foursquare Location Data (Venues [Restaurants, Community Centers], TOP tips, \n",
        " Favorites, User Experience, etc) will be used to cluster, segment, target, and \n",
        " position to craft recommendations for suitable location to open up a vegan ice-cream shop.\n",
        "Using the data available in the above sources, I will be conducting clustering and neighborhood based analysis leveraging primarily Foursquare APIs and tools such as KNN and relevant unsupervised learning methods to deliver recommendation options to the client."
      ]
    },
    {
      "cell_type": "markdown",
      "metadata": {
        "id": "dSlRxXY7oNEG",
        "colab_type": "text"
      },
      "source": [
        "#### Here is some relevant examples of tailored data that will benefit the the client on making the decision which place would be higher populated with his targeted audience:\n",
        "\n",
        "1) There are many vegan eating places in NY with the top rating being 9.3 for abcV Restaurant.\n",
        "\n",
        "3) There are also tens of neighborhoods truly deliver pristine eating and relaxing environment for vegans, which makes them highly attractive for the target audience of the client.\n",
        "\n",
        "4) Leveraging the recommender systems capabilities enabled by Foursquare to conduct compare / contrast the data points to derive the recommendations.\n",
        "\n"
      ]
    },
    {
      "cell_type": "markdown",
      "metadata": {
        "id": "9_MVezbvoNEH",
        "colab_type": "text"
      },
      "source": [
        "#### Here are the specific steps that will be deployed to work with the data derived from Foursqaure and the approach will cover NYC and also the category of \"Vegan Community Centers\"\n",
        "\n",
        "A) Search for a specific venue = \"Vegan Restaurant\"\n",
        "\n",
        "B) Perform the GET Request and examine the results for Vegan eating places\n",
        "\n",
        "C) Get relevant part of JSON and transform it into a pandas dataframe & review the data for patterns and obvious insights\n",
        "\n",
        "D) Explore Venues (= Vegan related) with Rating of 8.5 (out of 10) or more\n",
        "\n",
        "E) Get the number of tips for each Venue and focus on what could be a source of valuable information for the Data Scientists (new-hires)\n",
        "\n",
        "F) Gather frequent user feedback and comments\n",
        "\n",
        "G) Narrow down the venues and the associated neighborhoods for each city that can form the set of recommendations"
      ]
    },
    {
      "cell_type": "markdown",
      "metadata": {
        "id": "Sgn3XfmEoNEI",
        "colab_type": "text"
      },
      "source": [
        "***\n",
        "### Methodology:\n",
        "\n",
        "The methodology employed is aligned with the Data Science 10 steps program that was discussed during an earlier module of thecourse.\n",
        "\n",
        "a) Obtain relevant vegan places data from Foursquare and clean it for data understanding and grouping etc.\n",
        "\n",
        "b) Explore the data for clusters & patterns of Neighborhoods in Boroughs\n",
        "\n",
        "c) Group the places of high interest into relevant neighborhood and Borough pairings\n",
        "\n",
        "d) Generate the markers on both NYC map to highlight the neighborhoods that are in focus.\n",
        "\n",
        "e) Use Foursquare venue, Categories etc to enable the profiling the primary & focus neighborhoods.\n",
        "\n",
        "f) Generate the short-listed neighborhoods for NYC."
      ]
    },
    {
      "cell_type": "markdown",
      "metadata": {
        "id": "Tq-JuXhWoNEK",
        "colab_type": "text"
      },
      "source": [
        "***\n",
        "### Results:\n",
        "Here is the final short-list of neighborhoods with that accomodate the most for vegans in NYC and there fore have higher presence of targeted audience of the client:\n",
        "\n",
        "- Bushwick and Williamsburg        1\n",
        "- Chelsea and Clinton              1\n",
        "- Gramercy Park and Murray Hill    1\n",
        "- Greenpoint                       3\n",
        "- Greenwich Village and Soho       6\n",
        "- Lower East Side                  3\n",
        "- Northwest Brooklyn               2\n",
        "- Upper East Side                  2"
      ]
    },
    {
      "cell_type": "markdown",
      "metadata": {
        "id": "mCwn4GGtoNEL",
        "colab_type": "text"
      },
      "source": [
        " *It was clear that Greenwich, Greenpoint, and Lower East Side were highly populated with vegans in NYC.*"
      ]
    },
    {
      "cell_type": "markdown",
      "metadata": {
        "id": "lxT5HGo9oNEN",
        "colab_type": "text"
      },
      "source": [
        "***\n",
        "### Discussion:"
      ]
    },
    {
      "cell_type": "markdown",
      "metadata": {
        "id": "XJwCzodwoNEO",
        "colab_type": "text"
      },
      "source": [
        "Based on my observation, the 3 most recommended neighborhood to open up the ice-cream shop that fits our client's search criteria are Greenwich, Greenpoint and Lower East Side.\n",
        "\n",
        "While this project was able to derive specific recommendations in terms of places in NY that are highly populated with vegans, it has limitations given that the assumptions for the model are simplistic in nature. The main variable of focus was only Food & Leisure where as vegans may be interested in a number of other amenities and interests that will make it a multi-variable focused data science analysis. From my perspective the project provided a tremendous opportunity for me to explore and apply most of the knowledge and insights gained during the previous 8 modules of this course.\n",
        "\n"
      ]
    },
    {
      "cell_type": "markdown",
      "metadata": {
        "id": "fwqzbP-ZoNEP",
        "colab_type": "text"
      },
      "source": [
        "***\n",
        "### Summary & Conclusion:"
      ]
    },
    {
      "cell_type": "markdown",
      "metadata": {
        "id": "l4kNQ5m1oNEQ",
        "colab_type": "text"
      },
      "source": [
        "With all of its limitations, this project can be useful for the client to get a quick glance of the neighborhoods in NYC, that would have a higher population of his targeted audience. "
      ]
    },
    {
      "cell_type": "code",
      "metadata": {
        "id": "hfiWs2fyoNES",
        "colab_type": "code",
        "colab": {}
      },
      "source": [
        ""
      ],
      "execution_count": 0,
      "outputs": []
    }
  ]
}
